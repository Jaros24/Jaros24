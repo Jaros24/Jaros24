{
 "cells": [
  {
   "cell_type": "code",
   "execution_count": 40,
   "metadata": {},
   "outputs": [],
   "source": [
    "import sys\n",
    "import os\n",
    "import time\n",
    "from PIL import Image,ImageDraw,ImageFont\n",
    "import random\n",
    "import pandas as pd"
   ]
  },
  {
   "cell_type": "code",
   "execution_count": 41,
   "metadata": {},
   "outputs": [],
   "source": [
    "plates = pd.read_csv(\"plates.csv\")\n",
    "\n",
    "def font(x=24):\n",
    "    return ImageFont.truetype('plate.ttf', x)"
   ]
  },
  {
   "cell_type": "code",
   "execution_count": 45,
   "metadata": {},
   "outputs": [],
   "source": [
    "image = Image.new('1', (800, 480), 255)\n",
    "draw = ImageDraw.Draw(image)\n",
    "\n",
    "# paste background\n",
    "bg = Image.open('michigan.bmp')\n",
    "image.paste(bg, (0, 0))\n",
    "\n",
    "\n",
    "# draw random plate num on center of image\n",
    "plate = \"12345\" # random.choice(plates['Num'])\n",
    "size = 260\n",
    "draw.text((399-draw.textsize(plate, font=font(size))[0]//2, 505//2-size//2), plate, font=font(size), fill=0)\n",
    "\n",
    "\n",
    "# display image\n",
    "image.show()"
   ]
  },
  {
   "cell_type": "code",
   "execution_count": null,
   "metadata": {},
   "outputs": [],
   "source": []
  },
  {
   "cell_type": "code",
   "execution_count": null,
   "metadata": {},
   "outputs": [],
   "source": []
  }
 ],
 "metadata": {
  "kernelspec": {
   "display_name": "Python 3",
   "language": "python",
   "name": "python3"
  },
  "language_info": {
   "codemirror_mode": {
    "name": "ipython",
    "version": 3
   },
   "file_extension": ".py",
   "mimetype": "text/x-python",
   "name": "python",
   "nbconvert_exporter": "python",
   "pygments_lexer": "ipython3",
   "version": "3.10.2"
  }
 },
 "nbformat": 4,
 "nbformat_minor": 2
}
