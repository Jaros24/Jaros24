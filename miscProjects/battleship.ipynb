{
 "cells": [
  {
   "cell_type": "code",
   "execution_count": 1,
   "metadata": {},
   "outputs": [],
   "source": [
    "import numpy as np\n",
    "import matplotlib.pyplot as plt\n",
    "import torch\n",
    "import torch.nn as nn\n",
    "import torch.optim as optim\n",
    "import torch.nn.functional as F\n",
    "import tqdm\n",
    "from IPython.display import clear_output"
   ]
  },
  {
   "cell_type": "code",
   "execution_count": 2,
   "metadata": {},
   "outputs": [],
   "source": [
    "class Battleship_board():\n",
    "    def __init__(self):\n",
    "        self.board = np.zeros((12,12))\n",
    "        self.ships = [5,4,3,3,2]\n",
    "        self.targets = np.ones((10,10)) * 0.5 # 0.5 is unknown, 1 is hit, 0 is miss\n",
    "        self.place_ships()\n",
    "        self.board = self.board[1:11,1:11] # remove the padding\n",
    "        \n",
    "    def place_ship(self, ship_size):\n",
    "        placed = False\n",
    "        for _ in range(100): # 100 attempts to place the ship\n",
    "            x = np.random.randint(1,11)\n",
    "            y = np.random.randint(1,11)\n",
    "            direction = np.random.randint(4)\n",
    "            if direction == 0:\n",
    "                if x + ship_size < 10:\n",
    "                    if np.sum(self.board[x-1:x+ship_size+1,y-1:y+2]) == 0:\n",
    "                        self.board[x:x+ship_size,y] = 1\n",
    "                        placed = True\n",
    "            elif direction == 1:\n",
    "                if y + ship_size < 10:\n",
    "                    if np.sum(self.board[x-1:x+2,y-1:y+ship_size+2]) == 0:\n",
    "                        self.board[x,y:y+ship_size] = 1\n",
    "                        placed = True\n",
    "            elif direction == 2:\n",
    "                if x - ship_size > 1:\n",
    "                    if np.sum(self.board[x-ship_size-1:x+1,y-1:y+2]) == 0:\n",
    "                        self.board[x-ship_size:x,y] = 1\n",
    "                        placed = True\n",
    "            else:\n",
    "                if y - ship_size > 1:\n",
    "                    if np.sum(self.board[x-1:x+2,y-ship_size-1:y+1]) == 0:\n",
    "                        self.board[x,y-ship_size:y] = 1\n",
    "                        placed = True\n",
    "            if placed:\n",
    "                return self.board\n",
    "            else:\n",
    "                continue\n",
    "    \n",
    "    def place_ships(self):\n",
    "        # shuffle the ships\n",
    "        #np.random.shuffle(self.ships)\n",
    "        for ship in self.ships:\n",
    "            self.place_ship(ship)\n",
    "        return self.board\n",
    "    \n",
    "    def display(self):\n",
    "        plt.imshow(self.board)\n",
    "        plt.show()\n",
    "        \n",
    "    def display_targets(self):\n",
    "        plt.imshow(self.targets)\n",
    "        plt.show()\n",
    "    \n",
    "    def fire(self, x, y):\n",
    "        self.targets[x,y] = self.board[x,y]\n",
    "    \n",
    "    def random_fire(self):\n",
    "        x = np.random.randint(10)\n",
    "        y = np.random.randint(10)\n",
    "        self.fire(x,y)\n",
    "    \n",
    "    def scatter_fire(self):\n",
    "        random_firings = np.random.randint(200)\n",
    "        if random_firings > 100: # cheat for known board state\n",
    "            self.targets = self.board\n",
    "        else:\n",
    "            for _ in range(random_firings):\n",
    "                self.random_fire()\n",
    "    "
   ]
  },
  {
   "cell_type": "code",
   "execution_count": 3,
   "metadata": {},
   "outputs": [],
   "source": [
    "# Define the neural network that will be used to predict the board\n",
    "class Net(nn.Module):\n",
    "    def __init__(self):\n",
    "        super(Net, self).__init__()\n",
    "        self.conv1 = nn.Conv2d(1, 16, 3, padding=1)\n",
    "        self.conv2 = nn.Conv2d(16, 32, 3, padding=1)\n",
    "        self.conv3 = nn.Conv2d(32, 64, 3, padding=1)\n",
    "        self.fc1 = nn.Linear(64*10*10, 128)\n",
    "        self.fc2 = nn.Linear(128, 100)\n",
    "        \n",
    "    def forward(self, x):\n",
    "        x = F.relu(self.conv1(x))\n",
    "        x = F.relu(self.conv2(x))\n",
    "        x = F.relu(self.conv3(x))\n",
    "        x = x.view(-1, 64*10*10)\n",
    "        x = F.relu(self.fc1(x))\n",
    "        x = self.fc2(x)\n",
    "        return x\n",
    "    \n",
    "def train(model, optimizer, criterion, n_epochs=1000):\n",
    "    for epoch in tqdm.tqdm(range(n_epochs)):\n",
    "        optimizer.zero_grad()\n",
    "        board = Battleship_board()\n",
    "        board.scatter_fire()\n",
    "        board_tensor = torch.tensor(board.targets).unsqueeze(0).unsqueeze(0).float()\n",
    "        output = model(board_tensor)\n",
    "        loss = criterion(output, board_tensor.view(-1))\n",
    "        loss.backward()\n",
    "        optimizer.step()\n",
    "        #if epoch % 100 == 0:\n",
    "        #    print(loss.item())\n",
    "    return model"
   ]
  },
  {
   "cell_type": "code",
   "execution_count": 4,
   "metadata": {},
   "outputs": [
    {
     "name": "stderr",
     "output_type": "stream",
     "text": [
      "  0%|          | 0/10000 [00:00<?, ?it/s]C:\\Users\\Adam\\AppData\\Local\\Packages\\PythonSoftwareFoundation.Python.3.12_qbz5n2kfra8p0\\LocalCache\\local-packages\\Python312\\site-packages\\torch\\nn\\modules\\loss.py:538: UserWarning: Using a target size (torch.Size([100])) that is different to the input size (torch.Size([1, 100])). This will likely lead to incorrect results due to broadcasting. Please ensure they have the same size.\n",
      "  return F.mse_loss(input, target, reduction=self.reduction)\n",
      "100%|██████████| 10000/10000 [01:31<00:00, 109.54it/s]\n"
     ]
    }
   ],
   "source": [
    "model = Net()\n",
    "optimizer = optim.Adam(model.parameters(), lr=0.001)\n",
    "criterion = nn.MSELoss();\n"
   ]
  },
  {
   "cell_type": "code",
   "execution_count": 11,
   "metadata": {},
   "outputs": [
    {
     "name": "stderr",
     "output_type": "stream",
     "text": [
      "100%|██████████| 10000/10000 [01:35<00:00, 104.60it/s]\n"
     ]
    }
   ],
   "source": [
    "model = train(model, optimizer, criterion, 10000)"
   ]
  },
  {
   "cell_type": "code",
   "execution_count": 12,
   "metadata": {},
   "outputs": [],
   "source": [
    "turns = []"
   ]
  },
  {
   "cell_type": "code",
   "execution_count": 13,
   "metadata": {},
   "outputs": [
    {
     "name": "stderr",
     "output_type": "stream",
     "text": [
      "  0%|          | 0/1000 [00:00<?, ?it/s]"
     ]
    },
    {
     "name": "stderr",
     "output_type": "stream",
     "text": [
      "100%|██████████| 1000/1000 [00:43<00:00, 22.83it/s]\n"
     ]
    }
   ],
   "source": [
    "for game in tqdm.trange(1000):\n",
    "    i = 0\n",
    "    board = Battleship_board()\n",
    "    while True: # play the game\n",
    "        i += 1\n",
    "        # predict the board\n",
    "        board_tensor = torch.tensor(board.targets).unsqueeze(0).unsqueeze(0).float()\n",
    "        output = model(board_tensor)\n",
    "        output = output.view(10,10).detach().numpy()\n",
    "        # find the highest probability spot not already fired at\n",
    "        x, y = np.unravel_index( np.argmax(output), output.shape)\n",
    "        while board.targets[x,y] != 0.5:\n",
    "            output[x,y] = 0\n",
    "            x, y = np.unravel_index(np.argmax(output), output.shape)\n",
    "        board.fire(x,y)\n",
    "        target_sum = np.sum(board.targets[board.targets == 1])\n",
    "        if target_sum == board.board.sum():\n",
    "            turns.append(i)\n",
    "            break\n",
    "        if i > 90:\n",
    "            turns.append(i)\n",
    "            break\n",
    "            "
   ]
  },
  {
   "cell_type": "code",
   "execution_count": 14,
   "metadata": {},
   "outputs": [
    {
     "data": {
      "image/png": "[encoded data removed]",
      "text/plain": [
       "<Figure size 640x480 with 1 Axes>"
      ]
     },
     "metadata": {},
     "output_type": "display_data"
    }
   ],
   "source": [
    "plt.hist(turns, bins=range(100));"
   ]
  },
  {
   "cell_type": "code",
   "execution_count": 15,
   "metadata": {},
   "outputs": [
    {
     "name": "stdout",
     "output_type": "stream",
     "text": [
      "58.715\n"
     ]
    }
   ],
   "source": [
    "print(np.mean(turns))"
   ]
  },
  {
   "cell_type": "code",
   "execution_count": 19,
   "metadata": {},
   "outputs": [
    {
     "data": {
      "image/png": "[encoded data removed]",
      "text/plain": [
       "<Figure size 640x480 with 3 Axes>"
      ]
     },
     "metadata": {},
     "output_type": "display_data"
    }
   ],
   "source": [
    "# animate the game\n",
    "board = Battleship_board()\n",
    "i = 0\n",
    "\n",
    "while True: # play the game\n",
    "    board_tensor = torch.tensor(board.targets).unsqueeze(0).unsqueeze(0).float()\n",
    "    output = model(board_tensor)\n",
    "    output = output.view(10,10).detach().numpy()\n",
    "    \n",
    "    \n",
    "    # find the highest probability spot not already fired at\n",
    "    x, y = np.unravel_index(np.argmax(output), output.shape)\n",
    "    while board.targets[x,y] != 0.5:\n",
    "        output[x,y] = 0\n",
    "        x, y = np.unravel_index(np.argmax(output), output.shape)\n",
    "    board.fire(x,y)\n",
    "    target_sum = np.sum(board.targets[board.targets == 1])\n",
    "    \n",
    "    clear_output(wait=True)\n",
    "    \n",
    "    plt.subplot(1,3,1)\n",
    "    plt.imshow(board.board, cmap='bwr')\n",
    "    plt.title('True Board')\n",
    "    plt.subplot(1,3,2)\n",
    "    plt.imshow(board.targets, cmap='bwr')\n",
    "    plt.title('Fired Board')\n",
    "    plt.subplot(1,3,3)\n",
    "    plt.imshow(-1 * output, cmap='bwr')\n",
    "    plt.title('Predicted Board')\n",
    "    plt.show()\n",
    "    \n",
    "    if target_sum == board.board.sum():\n",
    "        break\n",
    "    if i > 99:\n",
    "        break\n",
    "    i += 1"
   ]
  },
  {
   "cell_type": "code",
   "execution_count": null,
   "metadata": {},
   "outputs": [],
   "source": []
  }
 ],
 "metadata": {
  "kernelspec": {
   "display_name": "Python 3",
   "language": "python",
   "name": "python3"
  },
  "language_info": {
   "codemirror_mode": {
    "name": "ipython",
    "version": 3
   },
   "file_extension": ".py",
   "mimetype": "text/x-python",
   "name": "python",
   "nbconvert_exporter": "python",
   "pygments_lexer": "ipython3",
   "version": "3.12.6"
  }
 },
 "nbformat": 4,
 "nbformat_minor": 2
}
