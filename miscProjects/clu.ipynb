{
 "cells": [
  {
   "cell_type": "code",
   "execution_count": 138,
   "metadata": {},
   "outputs": [],
   "source": [
    "import numpy as np\n",
    "import tqdm\n",
    "import random\n",
    "import matplotlib.pyplot as plt\n",
    "from IPython.display import clear_output"
   ]
  },
  {
   "cell_type": "code",
   "execution_count": 192,
   "metadata": {},
   "outputs": [],
   "source": [
    "class CluGame():\n",
    "    def __init__(self):\n",
    "        # define the game parameters\n",
    "        self.categories = [9,6,6]\n",
    "        n_cards = sum(self.categories)\n",
    "        self.n_players = 4\n",
    "        \n",
    "        self.game_array = np.zeros((self.n_players+2, n_cards), dtype=int)\n",
    "        self.game_array[-2,:] = 1\n",
    "        # first rows are players, last two are discard pile and envelope\n",
    "        \n",
    "        # pick cards from each category for the envelope\n",
    "        for cati in range(len(self.categories)):\n",
    "            first_card = sum(self.categories[:cati])\n",
    "            last_card = first_card + self.categories[cati]\n",
    "            rand_card = random.randint(first_card, last_card-1)\n",
    "            self.game_array[:, rand_card] = 0\n",
    "            self.game_array[-1, rand_card] = 1\n",
    "        \n",
    "        # distribute the remaining cards to the players\n",
    "        self.cards_per_player = (n_cards - len(self.categories)) // self.n_players\n",
    "        self.player_knowledge = []\n",
    "        for player in range(self.n_players):\n",
    "            for _ in range(self.cards_per_player):\n",
    "                while True:\n",
    "                    rand_card = random.randint(0, n_cards-1)\n",
    "                    if self.game_array[-2, rand_card] == 1: # card is available to pick\n",
    "                        self.game_array[:, rand_card] = 0\n",
    "                        self.game_array[player, rand_card] = 1\n",
    "                        break\n",
    "                    \n",
    "        \n",
    "        knowledge_template = np.zeros_like(self.game_array, dtype=float)\n",
    "        knowledge_template[-2,:] = self.game_array[-2,:] # discard pile is known to all players\n",
    "        self.player_knowledge = [knowledge_template.copy() for _ in range(self.n_players)]\n",
    "        for player in range(self.n_players):\n",
    "            self.player_knowledge[player][player,:] = self.game_array[player,:] # each player knows their own cards\n",
    "            for card in range(n_cards):\n",
    "                if self.player_knowledge[player][:, card].sum() == 0: # card is not known\n",
    "                    self.player_knowledge[player][:, card] += 0.1\n",
    "                    self.player_knowledge[player][player, card] = 0 # player knows they don't have this card\n",
    "                    self.player_knowledge[player][-2, card] = 0 # player knows this card is not in the discard pile\n",
    "    \n",
    "    def normalize_knowledge(self):\n",
    "        for player in range(self.n_players):\n",
    "            for _ in range(40): # repeat normalizations to ensure convergence\n",
    "                \n",
    "                # only one of each card exists\n",
    "                self.player_knowledge[player] /= self.player_knowledge[player].sum(axis=0, keepdims=True)\n",
    "                \n",
    "                # only one of each category in the envelope\n",
    "                for cati in range(len(self.categories)):\n",
    "                    first_card = sum(self.categories[:cati])\n",
    "                    last_card = first_card + self.categories[cati]\n",
    "                    self.player_knowledge[player][-1, first_card:last_card] /= self.player_knowledge[player][-1, first_card:last_card].sum()\n",
    "                \n",
    "                # each player has the same number of cards\n",
    "                for player2 in range(self.n_players):\n",
    "                    self.player_knowledge[player][player2,:] *= self.cards_per_player / self.player_knowledge[player][player2,:].sum()\n",
    "    \n",
    "    def ask_turn(self, player, cards):\n",
    "        # player asks if other players have any of the cards in the list\n",
    "        for player_offset in range(self.n_players - 1):\n",
    "            player2 = (player + player_offset + 1) % self.n_players\n",
    "            \n",
    "            held_cards = [card for card in cards if self.game_array[player2, card] == 1]\n",
    "            if len(held_cards) > 0:\n",
    "                revealed_card = self.reveal_logic(player, held_cards)\n",
    "                \n",
    "                #player2 has revealed the card to player\n",
    "                self.player_knowledge[player][:, revealed_card] = 0\n",
    "                self.player_knowledge[player][player2, revealed_card] = 1\n",
    "                \n",
    "                for other_player in range(self.n_players):\n",
    "                    if other_player != player2 and other_player != player:\n",
    "                        current_card_knowledge = 0\n",
    "                        for card in cards:\n",
    "                            current_card_knowledge += self.player_knowledge[other_player][player2, card]                            \n",
    "                        \n",
    "                        if current_card_knowledge < 1: # current model of knowledge doesn't fit, at least one of the cards must be held by player2\n",
    "                            for card in cards:\n",
    "                                self.player_knowledge[other_player][player2, card] /= current_card_knowledge\n",
    "                break # only one player can be asked at a time\n",
    "            else: # player2 doesn't have any of the cards asked for\n",
    "                for other_player in range(self.n_players):\n",
    "                    for card in cards:\n",
    "                        self.player_knowledge[other_player][player2, card] = 0\n",
    "    \n",
    "    def reveal_logic(self, player, cards):\n",
    "        return random.choice(cards)\n",
    "    \n",
    "    def ask_logic(self, player):\n",
    "        card_selection = []\n",
    "        for i in range(len(self.categories)):\n",
    "            card_selection.append(random.randint(0, self.categories[i]-1) + sum(self.categories[:i]))\n",
    "        return card_selection\n",
    "        #return random.sample(range(self.game_array.shape[1]), 3)\n",
    "    \n",
    "    def display_knowledge(self):\n",
    "        plt.figure(figsize=(10, 10))\n",
    "        plt.subplots(self.n_players)\n",
    "        for player in range(self.n_players):\n",
    "            plt.subplot(self.n_players, 1, player+1)\n",
    "            plt.imshow(self.player_knowledge[player])\n",
    "            plt.title(f'Player {player}')\n",
    "        plt.colorbar()\n",
    "        plt.show()"
   ]
  },
  {
   "cell_type": "code",
   "execution_count": 200,
   "metadata": {},
   "outputs": [
    {
     "data": {
      "image/png": "[encoded data removed]",
      "text/plain": [
       "<Figure size 640x480 with 1 Axes>"
      ]
     },
     "metadata": {},
     "output_type": "display_data"
    },
    {
     "data": {
      "text/plain": [
       "[<matplotlib.lines.Line2D at 0x1c467486990>]"
      ]
     },
     "execution_count": 200,
     "metadata": {},
     "output_type": "execute_result"
    },
    {
     "data": {
      "image/png": "[encoded data removed]",
      "text/plain": [
       "<Figure size 640x480 with 1 Axes>"
      ]
     },
     "metadata": {},
     "output_type": "display_data"
    }
   ],
   "source": [
    "game = CluGame()\n",
    "game.normalize_knowledge()\n",
    "prediction_dev = []\n",
    "\n",
    "#import time\n",
    "\n",
    "#random.seed(0)\n",
    "player = 0\n",
    "for turns in range(30):\n",
    "    cards = game.ask_logic(player)\n",
    "    game.ask_turn(player, cards)\n",
    "    game.normalize_knowledge()\n",
    "    prediction_dev.append((game.player_knowledge[0][-1, :]**2).sum())\n",
    "    \n",
    "    player = (player + 1) % game.n_players\n",
    "    clear_output(wait=True)\n",
    "    plt.imshow(game.player_knowledge[0], cmap='grey')\n",
    "    plt.show()\n",
    "    #time.sleep(0.3)\n",
    "    \n",
    "#game.display_knowledge()\n",
    "\n",
    "plt.plot(prediction_dev)"
   ]
  },
  {
   "cell_type": "code",
   "execution_count": null,
   "metadata": {},
   "outputs": [],
   "source": []
  }
 ],
 "metadata": {
  "kernelspec": {
   "display_name": "Python 3",
   "language": "python",
   "name": "python3"
  },
  "language_info": {
   "codemirror_mode": {
    "name": "ipython",
    "version": 3
   },
   "file_extension": ".py",
   "mimetype": "text/x-python",
   "name": "python",
   "nbconvert_exporter": "python",
   "pygments_lexer": "ipython3",
   "version": "3.12.9"
  }
 },
 "nbformat": 4,
 "nbformat_minor": 2
}
